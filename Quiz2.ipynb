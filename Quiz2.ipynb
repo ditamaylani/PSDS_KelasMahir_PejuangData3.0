{
  "nbformat": 4,
  "nbformat_minor": 0,
  "metadata": {
    "colab": {
      "name": "Quiz2.ipynb",
      "provenance": [],
      "authorship_tag": "ABX9TyP0A2gehJQg2SXi+z+952L+",
      "include_colab_link": true
    },
    "kernelspec": {
      "name": "python3",
      "display_name": "Python 3"
    },
    "language_info": {
      "name": "python"
    }
  },
  "cells": [
    {
      "cell_type": "markdown",
      "metadata": {
        "id": "view-in-github",
        "colab_type": "text"
      },
      "source": [
        "<a href=\"https://colab.research.google.com/github/ditamaylani/PSDS_KelasMahir_PejuangData3.0/blob/main/Quiz2.ipynb\" target=\"_parent\"><img src=\"https://colab.research.google.com/assets/colab-badge.svg\" alt=\"Open In Colab\"/></a>"
      ]
    },
    {
      "cell_type": "markdown",
      "metadata": {
        "id": "IhEeRHcQv1bg"
      },
      "source": [
        "Buatlah sebuah fungsi untuk menghitung luas segitiga dengan beberapa kemungkinan input seperti pada situs berikut:\n",
        "\n",
        "\n",
        "https://mastermatfis.blogspot.com/2018/07/macam-macam-rumus-luas-segitiga.html\n",
        "\n",
        "\n",
        "Jika terdapat input yang sesuai maka memunculkan hasil luas, jika tidak akan menampilkan tulisan \"Input Tidak Sesuai dengan Formula yang Tersedia!\""
      ]
    },
    {
      "cell_type": "code",
      "metadata": {
        "colab": {
          "base_uri": "https://localhost:8080/"
        },
        "id": "kou_s2fl1PJ8",
        "outputId": "84c9a135-2d16-4c68-c59b-fa466e03b2d1"
      },
      "source": [
        "import math\n",
        "print('Menghitung Luas Segitiga :')\n",
        "print('1. Diketahui alas dan tinggi')\n",
        "print('2. Diketahui dua sisi dan satu sudut')\n",
        "print('3. Diketahui satu sisi dan tiga sudut')\n",
        "print('4. Diketahui tiga sisi')\n",
        "print('5. Diketahui segitiga luar lingkaran (tiga sisi dan jari-jari lingkaran)')\n",
        "print('6. Diketahui segitiga dalam lingkaran (tiga sisi dan jari-jari lingkaran)')\n",
        "print('7. Diketahui (tiga sudut dan jari-jari lingkaran)')\n",
        "eksekusi = input('Pilih : ')\n",
        "\n",
        "if eksekusi=='1':\n",
        "  a1 = float(input('Masukkan nilai alas : '))\n",
        "  b1 = float(input('Masukkan nilai tinggi : '))\n",
        "  l1 = (a1*b1)/2\n",
        "  print(\"Luas segitiga adalah \", l1)\n",
        "elif eksekusi=='2':\n",
        "  a2 = float(input('Panjang sisi a : '))\n",
        "  b2 = float(input('Panjang sisi b : '))\n",
        "  sdt_a2 = float(input('Sudut depan A: '))\n",
        "  if (sdt_a2<180 and a2>=b2):\n",
        "    l2 = a2*b2*math.sin(math.radians(sdt_c2))/2\n",
        "    print(\"Luas segitiga adalah \", l2)\n",
        "  else:\n",
        "    print(\"Sudut harus kurang dari 180 dan a harus lebih besar dari b\")\n",
        "elif eksekusi=='3':\n",
        "  a3 = float(input('Panjang sisi a : '))\n",
        "  sdt_a3 = eval(input('Sudut A : '))\n",
        "  sdt_b3 = eval(input('Sudut B : '))\n",
        "  sdt_c3 = eval(input('Sudut C : '))\n",
        "  if (sdt_a3<90 and sdt_b3<90 and sdt_c3<90):\n",
        "    l3 = ((a3**2)*math.sin(math.radians(sdt_b3))*math.sin(math.radians(sdt_c3))/2*math.sin(math.radians(sdt_a3)))\n",
        "    print(\"Luas segitiga adalah \", l3)\n",
        "  else:\n",
        "    print(\"Sudut lebih dari 90\")\n",
        "elif eksekusi=='4':\n",
        "  a4 = float(input('Panjang sisi a : '))\n",
        "  b4 = float(input('Panjang sisi b : '))\n",
        "  c4 = float(input('Panjang sisi c : '))\n",
        "  s4 = (a4+b4+c4)/2\n",
        "  l4 = math.sqrt(s4*(s4-a4)*(s4-b4)*(s4-c4))\n",
        "  print(\"Luas segitiga adalah \", l4)\n",
        "elif eksekusi=='5':\n",
        "  a5 = float(input('Panjang sisi a : '))\n",
        "  b5 = float(input('Panjang sisi b : '))\n",
        "  c5 = float(input('Panjang sisi c : '))\n",
        "  r5 = float(input('Masukkan nilai jari-jari : '))\n",
        "  s5 = (a5+b5+c5)/2\n",
        "  l5 = s5*r5\n",
        "  print(\"Luas segitiga adalah \", l5)\n",
        "elif eksekusi=='6':\n",
        "  a6 = float(input('Panjang sisi a : '))\n",
        "  b6 = float(input('Panjang sisi b : '))\n",
        "  c6 = float(input('Panjang sisi c : '))\n",
        "  r6 = float(input('Masukkan nilai jari-jari : '))\n",
        "  l6 = (a6*b6*c6)/(4*r6)\n",
        "  print(\"Luas segitiga adalah \", l6)\n",
        "elif eksekusi=='7':\n",
        "  sdt_a7 = eval(input('Masukkan sudut A : '))\n",
        "  sdt_b7 = eval(input('Masukkan sudut B : '))\n",
        "  sdt_c7 = eval(input('Masukkan sudut C : '))\n",
        "  r7 = float(input('Masukkan nilai jari-jari : '))\n",
        "  if (sdt_a7<90 and sdt_b7<90 and sdt_c7<90):\n",
        "    l7 = 2*(r7**2)*math.sin(math.radians(sdt_a7))*math.sin(math.radians(sdt_b7))*math.sin(math.radians(sdt_c7))\n",
        "    print(\"Luas segitiga adalah \", l7)\n",
        "  else:\n",
        "    print(\"Sudut lebih dari 90\")\n",
        "else:\n",
        "  print(\"Input Tidak Sesuai dengan Formula yang Tersedia!\")"
      ],
      "execution_count": 1,
      "outputs": [
        {
          "output_type": "stream",
          "name": "stdout",
          "text": [
            "Menghitung Luas Segitiga :\n",
            "1. Diketahui alas dan tinggi\n",
            "2. Diketahui dua sisi dan satu sudut\n",
            "3. Diketahui satu sisi dan tiga sudut\n",
            "4. Diketahui tiga sisi\n",
            "5. Diketahui segitiga luar lingkaran (tiga sisi dan jari-jari lingkaran)\n",
            "6. Diketahui segitiga dalam lingkaran (tiga sisi dan jari-jari lingkaran)\n",
            "7. Diketahui (tiga sudut dan jari-jari lingkaran)\n",
            "Pilih : 4\n",
            "Panjang sisi a : 16\n",
            "Panjang sisi b : 14\n",
            "Panjang sisi c : 13\n",
            "Luas segitiga adalah  86.82417578071214\n"
          ]
        }
      ]
    }
  ]
}