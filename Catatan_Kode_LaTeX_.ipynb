{
  "nbformat": 4,
  "nbformat_minor": 0,
  "metadata": {
    "kernelspec": {
      "display_name": "Python 3",
      "language": "python",
      "name": "python3"
    },
    "language_info": {
      "codemirror_mode": {
        "name": "ipython",
        "version": 3
      },
      "file_extension": ".py",
      "mimetype": "text/x-python",
      "name": "python",
      "nbconvert_exporter": "python",
      "pygments_lexer": "ipython3",
      "version": "3.8.5"
    },
    "colab": {
      "name": "Catatan Kode LaTeX .ipynb",
      "provenance": [],
      "include_colab_link": true
    }
  },
  "cells": [
    {
      "cell_type": "markdown",
      "metadata": {
        "id": "view-in-github",
        "colab_type": "text"
      },
      "source": [
        "<a href=\"https://colab.research.google.com/github/ditamaylani/PSDS_KelasMahir_PejuangData3.0/blob/main/Catatan_Kode_LaTeX_.ipynb\" target=\"_parent\"><img src=\"https://colab.research.google.com/assets/colab-badge.svg\" alt=\"Open In Colab\"/></a>"
      ]
    },
    {
      "cell_type": "code",
      "metadata": {
        "id": "oxlt33hPlb43"
      },
      "source": [
        "#from IPython import display\n",
        "#display.Image(\"desain template hobi data.png\")"
      ],
      "execution_count": null,
      "outputs": []
    },
    {
      "cell_type": "markdown",
      "metadata": {
        "id": "qD-TdegRlb5D"
      },
      "source": [
        "Syntaks adalah sebagai berikut:\n",
        "\n",
        "```\n",
        "def fungsi_kuadrat(x):\n",
        "    y=x**2\n",
        "    return y\n",
        "```"
      ]
    },
    {
      "cell_type": "markdown",
      "metadata": {
        "id": "LTrqdRbvlb5L"
      },
      "source": [
        "Syntaks pythonnya adalah sebagai berikut:\n",
        "\n",
        "```python\n",
        "def fungsi_kuadrat(x):\n",
        "    y=x**2\n",
        "    return y\n",
        "```"
      ]
    },
    {
      "cell_type": "markdown",
      "metadata": {
        "id": "vsLxa1MPlb5N"
      },
      "source": [
        "Syntaks SQLnya adalah sebagai berikut:\n",
        "\n",
        "```SQL\n",
        "SELECT A FROM Table1\n",
        "\n",
        "```"
      ]
    },
    {
      "cell_type": "markdown",
      "metadata": {
        "id": "XsJLAHkLlb5P"
      },
      "source": [
        "Syntaks R-nya adalah sebagai berikut:\n",
        "\n",
        "```R\n",
        "a<=2\n",
        "```"
      ]
    },
    {
      "cell_type": "code",
      "metadata": {
        "id": "aUSVuLthlb5Q"
      },
      "source": [
        ""
      ],
      "execution_count": null,
      "outputs": []
    },
    {
      "cell_type": "markdown",
      "metadata": {
        "id": "ZOnrFicllb5S"
      },
      "source": [
        "## Menulis Formula Matematika dengan LaTeX"
      ]
    },
    {
      "cell_type": "markdown",
      "metadata": {
        "id": "WBj1EWVElb5W"
      },
      "source": [
        "Untuk menuliskan formula matematika menggunakan bahasa LaTeX, maka awali dan akhiri penulisan formula dengan simbol $, sebagai berikut:\n",
        "\n",
        "*Kode LaTeX*:\n",
        "```\n",
        "Identitas Euler: $ e^{i\\pi} + 1 = 0 $\n",
        "```\n",
        "\n",
        "*Output:*\n",
        "\n",
        "Identitas Euler: $ e^{i\\pi} + 1 = 0 $"
      ]
    },
    {
      "cell_type": "markdown",
      "metadata": {
        "id": "Rd-jMlnJlb5Y"
      },
      "source": [
        "Kemudian, untuk memisahkan penulisan formula matematika dari kalimat lainnya dan menampilkannya di tengah maka gunakan simbol $$.\n",
        "\n",
        "*Kode LaTeX*:\n",
        "```\n",
        "Identitas Euler: $$ e^{i\\pi} + 1 = 0 $$\n",
        "```\n",
        "\n",
        "*Output:*\n",
        "\n",
        "Identitas Euler: $$ e^{i\\pi} + 1 = 0 $$\n"
      ]
    },
    {
      "cell_type": "markdown",
      "metadata": {
        "id": "PWDxQ7w5lb5b"
      },
      "source": [
        "## Formula Dasar Matematika"
      ]
    },
    {
      "cell_type": "markdown",
      "metadata": {
        "id": "QvHMGN_Ulb5c"
      },
      "source": [
        "1. `\\` digunakan untuk menambahkan spasi dalam formula matematika,\n",
        "2. `\\\\` digunakan untuk menambahkan baris baru dalam formula matematika, \n",
        "3. `\\frac{pembilang}{penyebut}` digunakan untuk menuliskan formula pecahan,\n",
        "4. `^{}` digunakan untuk menuliskan formula pangkat(indeks atas kanan)\n",
        "5. `_{}` digunakan untuk menuliskan formula indeks(indeks bawah kanan)\n",
        "6. `\\sqrt[n]{argumen}` digunakan untuk menuliskan formula akar."
      ]
    },
    {
      "cell_type": "markdown",
      "metadata": {
        "id": "vvxTNQnMlb5e"
      },
      "source": [
        "*Kode LaTeX*:\n",
        "```\n",
        "$$\n",
        "\\frac{pembilang}{penyebut} \\\\\n",
        "x^2\\\\\n",
        "e^{i\\pi}\\\\\n",
        "A_i\\\\\n",
        "B_{ij}\\\\\n",
        "\\sqrt[n]{argumen}\t\n",
        "$$\n",
        "```"
      ]
    },
    {
      "cell_type": "markdown",
      "metadata": {
        "id": "AftUVTeKlb5f"
      },
      "source": [
        "*Output:*\n",
        "\n",
        "$$\n",
        "\\frac{pembilang}{penyebut} \\\\\n",
        "x^2\\\\\n",
        "e^{i\\pi}\\\\\n",
        "A_i\\\\\n",
        "B_{ij}\\\\\n",
        "\\sqrt[n]{argumen}\t\n",
        "$$"
      ]
    },
    {
      "cell_type": "markdown",
      "metadata": {
        "id": "VdjCvX1Clb5g"
      },
      "source": [
        "## Huruf Yunani"
      ]
    },
    {
      "cell_type": "markdown",
      "metadata": {
        "id": "GeiEYhY6lb5h"
      },
      "source": [
        "Untuk menuliskan huruf romawi, ketikan `\\` dan tuliskan nama huruf yang anda inginkan:"
      ]
    },
    {
      "cell_type": "markdown",
      "metadata": {
        "id": "MVGqSmH2lb5i"
      },
      "source": [
        "*Kode LaTeX*:\n",
        "```\n",
        "Diberikan : $\\pi = 3.14$ , $\\alpha = \\frac{3\\pi}{4}\\, rad$\n",
        "$$\n",
        "\\omega = 2\\pi f \\\\\n",
        "f = \\frac{c}{\\lambda}\\\\\n",
        "\\lambda_0=\\theta^2+\\delta\\\\\n",
        "\\Delta\\lambda = \\frac{1}{\\lambda^2}\n",
        "$$\n",
        "```"
      ]
    },
    {
      "cell_type": "markdown",
      "metadata": {
        "id": "HPzq5TYvlb5j"
      },
      "source": [
        "*Output*:\n",
        "\n",
        "Diberikan : $\\pi = 3.14$ , $\\alpha = \\frac{3\\pi}{4}\\, rad$\n",
        "$$\n",
        "\\omega = 2\\pi f \\\\\n",
        "f = \\frac{c}{\\lambda}\\\\\n",
        "\\lambda_0=\\theta^2+\\delta\\\\\n",
        "\\Delta\\lambda = \\frac{1}{\\lambda^2}\n",
        "$$"
      ]
    },
    {
      "cell_type": "markdown",
      "metadata": {
        "id": "Bg76z7QZlb5k"
      },
      "source": [
        "Untuk menuliskan huruf Yunani Kapital, ketikkan nama huruf Yunani yang anda inginkan dengan huruf pertama kapital setelah backslah `\\`. Sebagai contoh:\n",
        "```\n",
        "\\delta >>> δ \n",
        "\\Delta >>> Δ\n",
        "\\omega >>> ω\n",
        "\\Omega >>> Ω\n",
        "```"
      ]
    },
    {
      "cell_type": "markdown",
      "metadata": {
        "id": "_w-SQ7Wwlb5m"
      },
      "source": [
        "**Huruf Yunani Kapital**:\n",
        "\n",
        "*Kode LaTeX*:\n",
        "```\n",
        "|Uppercase| LaTeX |Lowercase| LaTeX | \n",
        "|---------|-------|---------|-------|\n",
        "|$\\Delta$ |\\\\Delta|$\\delta$ |\\\\delta|\n",
        "|$\\Omega$ |\\\\Omega|$\\omega$ |\\\\omega|\n",
        "```\n",
        "\n",
        "*Output*:\n",
        "\n",
        "|Uppercase| LaTeX |Lowercase| LaTeX | \n",
        "|---------|-------|---------|-------|\n",
        "|$\\Delta$ |\\\\Delta|$\\delta$ |\\\\delta|\n",
        "|$\\Omega$ |\\\\Omega|$\\omega$ |\\\\omega|"
      ]
    },
    {
      "cell_type": "markdown",
      "metadata": {
        "id": "TBLhtMFqlb5p"
      },
      "source": [
        "## Trigonometri\n",
        "\n",
        "*Kode LaTeX*:\n",
        "```\n",
        "$$\n",
        "\\sin(-\\alpha)=-\\sin(\\alpha)\\\\\n",
        "\\arccos(x)=\\arcsin(u)\\\\\n",
        "\\log_n(n)=1\\\\\n",
        "\\tan(x) = \\frac{\\sin(x)}{\\cos(x)}\n",
        "$$\n",
        "```\n",
        "*Output*:\n",
        "$$\n",
        "\\sin(-\\alpha)=-\\sin(\\alpha)\\\\\n",
        "\\arccos(x)=\\arcsin(u)\\\\\n",
        "\\log_n(n)=1\\\\\n",
        "\\tan(x) = \\frac{\\sin(x)}{\\cos(x)}\n",
        "$$"
      ]
    },
    {
      "cell_type": "markdown",
      "metadata": {
        "id": "wfzkrcSOlb5r"
      },
      "source": [
        "## Sudut:\n",
        "\n",
        "*Kode LaTeX*:\n",
        "```\n",
        "Sudut Kiri : $\\langle$\n",
        "\n",
        "Sudut Kanan : $\\rangle$\n",
        "\n",
        "Sudut antara dua vektor u dan v\t: $\\langle \\vec{u},\\vec{v}\\rangle$\t\n",
        "\n",
        "$$ \\vec{AB} \\, \\cdot \\, \\vec{CD} =0  \\Rightarrow  \\vec{AB} \\, \\perp\\, \\vec{CD}$$\n",
        "```\n",
        "\n",
        "*Output*:\n",
        "\n",
        "Sudut Kiri : $\\langle$\n",
        "\n",
        "Sudut Kanan : $\\rangle$\n",
        "\n",
        "Sudut antara dua vektor u dan v\t: $\\langle \\vec{u},\\vec{v}\\rangle$\t\n",
        "\n",
        "$$ \\vec{AB} \\, \\cdot \\, \\vec{CD} =0  \\Rightarrow  \\vec{AB} \\, \\perp\\, \\vec{CD}$$\n"
      ]
    },
    {
      "cell_type": "markdown",
      "metadata": {
        "id": "_Sw-wGi-lb5s"
      },
      "source": [
        "## Himpunan & Logika\n",
        "\n",
        "*Kode LaTeX*:\n",
        "```\n",
        "$$\\mathbb{N} \\subset \\mathbb{Z} \\subset \\mathbb{D} \\subset \\mathbb{Q} \\subset \\mathbb{R} \\subset \\mathbb{C}$$\n",
        "```\n",
        "\n",
        "*Output*:\n",
        "\n",
        "$$\\mathbb{N} \\subset \\mathbb{Z} \\subset \\mathbb{D} \\subset \\mathbb{Q} \\subset \\mathbb{R} \\subset \\mathbb{C}$$\n"
      ]
    },
    {
      "cell_type": "markdown",
      "metadata": {
        "id": "P_vBYTCZlb5t"
      },
      "source": [
        "## Kurung Kurawa Vertikal: \n",
        "\n",
        "*Kode LaTeX:*\n",
        "```\n",
        "$$\n",
        "sign(x) = \\left\\{\n",
        "    \\begin{array}\\\\\n",
        "        1 & \\mbox{if } \\ x \\in \\mathbf{N}^* \\\\\n",
        "        0 & \\mbox{if } \\ x = 0 \\\\\n",
        "        -1 & \\mbox{else.}\n",
        "    \\end{array}\n",
        "\\right.\n",
        "$$\n",
        "\n",
        "\\\\\n",
        "\n",
        "$$\n",
        " \\left.\n",
        "    \\begin{array} \\\\\n",
        "        \\alpha^2 = \\sqrt5 \\\\\n",
        "        \\alpha \\geq 0 \n",
        "    \\end{array}\n",
        "\\right \\} \\alpha = 5 \n",
        "$$\n",
        "```\n",
        "\n",
        "*Output:*\n",
        "\n",
        "$$\n",
        "sign(x) = \\left\\{\n",
        "    \\begin{array}\\\\\n",
        "        1 & \\mbox{if } \\ x \\in \\mathbf{N}^* \\\\\n",
        "        0 & \\mbox{if } \\ x = 0 \\\\\n",
        "        -1 & \\mbox{else.}\n",
        "    \\end{array}\n",
        "\\right.\n",
        "$$\n",
        "\n",
        "\\\\\n",
        "\n",
        "$$\n",
        " \\left.\n",
        "    \\begin{array} \\\\\n",
        "        \\alpha^2 = \\sqrt5 \\\\\n",
        "        \\alpha \\geq 0 \n",
        "    \\end{array}\n",
        "\\right \\} \\alpha = 5 \n",
        "$$"
      ]
    },
    {
      "cell_type": "markdown",
      "metadata": {
        "id": "ACmqgwtTlb5u"
      },
      "source": [
        "## Kurung Kurawa Horizontal: \n",
        "\n",
        "$\\underbrace{}$\n",
        "\n",
        "*Kode LaTeX:* \n",
        "```\n",
        "$$\n",
        "\\underbrace{\\ln \\left( \\frac{5}{6} \\right)}_{\\simeq -0.1823}\n",
        "< \\overbrace{\\exp (2)}^{\\simeq 7.3890}\n",
        "$$\n",
        "```\n",
        "\n",
        "*Output:* \n",
        "\n",
        "$$\n",
        "\\underbrace{\\ln \\left( \\frac{5}{6} \\right)}_{\\simeq -0.1823}\n",
        "< \\overbrace{\\exp (2)}^{\\simeq 7.3890}\n",
        "$$"
      ]
    },
    {
      "cell_type": "markdown",
      "metadata": {
        "id": "lxRSjwtzlb5v"
      },
      "source": [
        "## Turunan\n",
        "\n",
        "*Kode LaTeX:*\n",
        "```\n",
        "Turunan Pertama : $$f'(x)$$ \n",
        "Turunan Orde ke-K  : $$f^{(k)}(x)$$\n",
        "Turunan Parsial Pertama\t: $$\\frac{\\partial f}{\\partial x}$$\n",
        "Turunan Parsial ke-K\t: $$\\frac{\\partial^{k} f}{\\partial x^k}$$\n",
        "```\n",
        "\n",
        "*Output:*\n",
        "\n",
        "Turunan Pertama : $$f'(x)$$ \n",
        "Turunan Orde ke-k  : $$f^{(k)}(x)$$\n",
        "Turunan Parsial Pertama\t: $$\\frac{\\partial f}{\\partial x}$$\n",
        "Turunan Parsial ke-k\t: $$\\frac{\\partial^{k} f}{\\partial x^k}$$\n",
        "\n"
      ]
    },
    {
      "cell_type": "markdown",
      "metadata": {
        "id": "wXeKN60plb5w"
      },
      "source": [
        "## Limit $\\lim$\n",
        "\n",
        "*Kode LaTeX:*\n",
        "\n",
        "```\n",
        "Limit at plus infinity\t: $$\\lim_{x \\to +\\infty} f(x)$$ \n",
        "Limit at minus infinity\t: $$\\lim_{x \\to -\\infty} f(x)$$\t\n",
        "Limit at $\\alpha$  : $$\\lim_{x \\to \\alpha} f(x)$$\n",
        "\n",
        "Max : $$\\max_{x \\in [a,b]}f(x)$$\t\n",
        "Min : $$\\min_{x \\in [\\alpha,\\beta]}f(x)$$\t\n",
        "Sup : $$\\sup_{x \\in \\mathbb{R}}f(x)$$\t\n",
        "Inf : $$\\inf_{x > s}f(x)$$\t\n",
        "```\n",
        "\n",
        "*Output:*\n",
        "\n",
        "Limit at plus infinity\t: $$\\lim_{x \\to +\\infty} f(x)$$ \n",
        "Limit at minus infinity\t: $$\\lim_{x \\to -\\infty} f(x)$$\t\n",
        "Limit at $\\alpha$  : $$\\lim_{x \\to \\alpha} f(x)$$\n",
        "\n",
        "Max : $$\\max_{x \\in [a,b]}f(x)$$\t\n",
        "Min : $$\\min_{x \\in [\\alpha,\\beta]}f(x)$$\t\n",
        "Sup : $$\\sup_{x \\in \\mathbb{R}}f(x)$$\t\n",
        "Inf : $$\\inf_{x > s}f(x)$$\t"
      ]
    },
    {
      "cell_type": "markdown",
      "metadata": {
        "id": "dLdkGvgPlb5y"
      },
      "source": [
        "## Sum $\\sum$\n",
        "\n",
        "*Kode LaTeX:*\n",
        "```\n",
        "Penjumlahan 0 sampai +inf:\n",
        "\n",
        "$$\\sum_{j=0}^{+\\infty} A_{j}$$\n",
        "\n",
        "Sum Ganda:\n",
        "$$\\sum^k_{i=1}\\sum^{l+1}_{j=1}\\,A_i A_j$$\t\n",
        "\n",
        "\n",
        "Ekspansi Taylor dari $e^x$:\n",
        "$$ e^x  = \\sum_{k=0}^{n}\\, \\frac{x^k}{k!} + o(x^n) $$ \n",
        "```\n",
        "\n",
        "*Output:*\n",
        "\n",
        "Penjumlahan 0 sampai +inf:\n",
        "\n",
        "$$\\sum_{j=0}^{+\\infty} A_{j}$$\n",
        "\n",
        "Sum Ganda:\n",
        "$$\\sum^k_{i=1}\\sum^{l+1}_{j=1}\\,A_i A_j$$\t\n",
        "\n",
        "\n",
        "Ekspansi Taylor dari $e^x$:\n",
        "$$ e^x  = \\sum_{k=0}^{n}\\, \\frac{x^k}{k!} + o(x^n) $$ \n"
      ]
    },
    {
      "cell_type": "markdown",
      "metadata": {
        "id": "lzigfIQ_lb5z"
      },
      "source": [
        "## Pi $\\prod$\n",
        "\n",
        "*Kode LaTeX:*\n",
        "```\n",
        "Notasi Pi(perkalian):\n",
        "$$\\prod_{j=1}^k A_{\\alpha_j}$$\n",
        "\n",
        "Notasi Pi Ganda:\n",
        "$$\\prod^k_{i=1}\\prod^l_{j=1}\\,A_i A_j$$\t\n",
        "```\n",
        "\n",
        "*Output:*\n",
        "\n",
        "Notasi Pi(perkalian):\n",
        "$$\\prod_{j=1}^k A_{\\alpha_j}$$\n",
        "\n",
        "Notasi Pi Ganda:\n",
        "$$\\prod^k_{i=1}\\prod^l_{j=1}\\,A_i A_j$$\t"
      ]
    },
    {
      "cell_type": "markdown",
      "metadata": {
        "id": "uE63nI35lb50"
      },
      "source": [
        "## Integral : $\\int$\n",
        "\n",
        "*Kode LaTeX:*\n",
        "\n",
        "```\n",
        "Integral:\n",
        "$$\\int_{a}^b f(x)dx$$\n",
        "\n",
        "Integral Ganda:\n",
        "$$\\int_{a}^b\\int_{c}^d f(x,y)\\,dxdy$$\t\n",
        "\n",
        "Triple Integral:\n",
        "$$\\iiint$$\t\n",
        "\n",
        "Quadruple Integral:\n",
        "$$\\iiiint$$\t\n",
        "\n",
        "Multiple Integral :\n",
        "$$\\idotsint$$\n",
        "\n",
        "Contour Integral:\n",
        "$$\\oint$$\t\n",
        "```\n",
        "\n",
        "*Output:*\n",
        "\n",
        "Integral:\n",
        "$$\\int_{a}^b f(x)dx$$\n",
        "\n",
        "Integral Ganda:\n",
        "$$\\int_{a}^b\\int_{c}^d f(x,y)\\,dxdy$$\t\n",
        "\n",
        "Triple Integral:\n",
        "$$\\iiint$$\t\n",
        "\n",
        "Quadruple Integral:\n",
        "$$\\iiiint$$\t\n",
        "\n",
        "Multiple Integral :\n",
        "$$\\idotsint$$\n",
        "\n",
        "Contour Integral:\n",
        "$$\\oint$$\t\n",
        "\n"
      ]
    },
    {
      "cell_type": "markdown",
      "metadata": {
        "id": "DiDss2NPlb50"
      },
      "source": [
        "## Matrix \n",
        "\n",
        "*Kode LaTeX:*\n",
        "```\n",
        "Matriks:\n",
        "\n",
        "\\begin{matrix}\n",
        "1 & 2 & 3\\\\\n",
        "a & b & c\n",
        "\\end{matrix}\n",
        "\n",
        "Kurung Biasa:\n",
        "\\begin{pmatrix}\n",
        "1 & 2 & 3\\\\\n",
        "a & b & c\n",
        "\\end{pmatrix}\n",
        "\n",
        "Kurung Kurawa:\n",
        "\\begin{Bmatrix}\n",
        "1 & 2 & 3\\\\\n",
        "a & b & c\n",
        "\\end{Bmatrix}\t\n",
        "\n",
        "Pipes:\n",
        "\\begin{vmatrix}\n",
        "1 & 2 & 3\\\\\n",
        "a & b & c\n",
        "\\end{vmatrix}\n",
        "\n",
        "Double pipes\n",
        "\\begin{Vmatrix}\n",
        "1 & 2 & 3\\\\\n",
        "a & b & c\n",
        "\\end{Vmatrix}\n",
        "```\n",
        "\n",
        "*Output:*\n",
        "\n",
        "Matriks:\n",
        "\n",
        "\\begin{matrix}\n",
        "1 & 2 & 3\\\\\n",
        "a & b & c\n",
        "\\end{matrix}\n",
        "\n",
        "Kurung Biasa:\n",
        "\\begin{pmatrix}\n",
        "1 & 2 & 3\\\\\n",
        "a & b & c\n",
        "\\end{pmatrix}\n",
        "\n",
        "Kurung Kurawa:\n",
        "\\begin{Bmatrix}\n",
        "1 & 2 & 3\\\\\n",
        "a & b & c\n",
        "\\end{Bmatrix}\t\n",
        "\n",
        "Pipes:\n",
        "\\begin{vmatrix}\n",
        "1 & 2 & 3\\\\\n",
        "a & b & c\n",
        "\\end{vmatrix}\n",
        "\n",
        "Double pipes\n",
        "\\begin{Vmatrix}\n",
        "1 & 2 & 3\\\\\n",
        "a & b & c\n",
        "\\end{Vmatrix}"
      ]
    },
    {
      "cell_type": "markdown",
      "metadata": {
        "id": "C-qS5bGLlb51"
      },
      "source": [
        "## Accent Mark\n",
        "\n",
        "*Kode LaTeX:*\n",
        "```\n",
        "$$\\hat{a}$$\n",
        "\n",
        "$$\\check{a}$$\n",
        "\n",
        "$$\\breve{a}$$\n",
        "\n",
        "$$\\acute{a}$$\n",
        "\n",
        "$$\\grave{a}$$\n",
        "\n",
        "$$\\tilde{a}$$\n",
        "\n",
        "$$\\bar{a}$$\n",
        "\n",
        "$$\\vec{a}$$\n",
        "\n",
        "$$\\dot{a}$$\n",
        "\n",
        "$$\\ddot{a}$$\n",
        "\n",
        "$$ \\prime{a} $$\n",
        "```\n",
        "\n",
        "*Output:*\n",
        "\n",
        "$$\\hat{a}$$\n",
        "\n",
        "$$\\check{a}$$\n",
        "\n",
        "$$\\breve{a}$$\n",
        "\n",
        "$$\\acute{a}$$\n",
        "\n",
        "$$\\grave{a}$$\n",
        "\n",
        "$$\\tilde{a}$$\n",
        "\n",
        "$$\\bar{a}$$\n",
        "\n",
        "$$\\vec{a}$$\n",
        "\n",
        "$$\\dot{a}$$\n",
        "\n",
        "$$\\ddot{a}$$\n",
        "\n",
        "$$ \\prime{a} $$"
      ]
    },
    {
      "cell_type": "markdown",
      "metadata": {
        "id": "r2Gi4F0vlb53"
      },
      "source": [
        "## Menulis Persamaan dengan Rapi\n",
        "\n",
        "\n",
        "*Kode LaTex:*\n",
        "```\n",
        "$$\n",
        "\\begin{eqnarray} \n",
        "y_i &=& \\beta_{0} + \\beta_{1}. x_{i} + \\epsilon_{i}\\\\\n",
        "\\epsilon_{i} &=& y_i - \\beta_{0} - \\beta_{1}. x_{i}\\\\\n",
        "\\sum \\limits_{i=1} ^{n} {\\epsilon_i}^2 &=& \\sum \\limits_{i=1} ^{n} {(y_i - \\beta_{0} - \\beta_{1}. x_{i})}^2\\\\\n",
        "\\end{eqnarray}\n",
        "$$\n",
        "```\n",
        "\n",
        "*Output:*\n",
        "$$\n",
        "\\begin{eqnarray} \n",
        "y_i &=& \\beta_{0} + \\beta_{1}. x_{i} + \\epsilon_{i}\\\\\n",
        "\\epsilon_{i} &=& y_i - \\beta_{0} - \\beta_{1}. x_{i}\\\\\n",
        "\\sum \\limits_{i=1} ^{n} {\\epsilon_i}^2 &=& \\sum \\limits_{i=1} ^{n} {(y_i - \\beta_{0} - \\beta_{1}. x_{i})}^2\\\\\n",
        "\\end{eqnarray}\n",
        "$$\n"
      ]
    },
    {
      "cell_type": "markdown",
      "metadata": {
        "id": "kqTTySu7lb54"
      },
      "source": [
        "### Referensi:\n",
        "\n"
      ]
    },
    {
      "cell_type": "markdown",
      "metadata": {
        "id": "jg1eVV_Tlb55"
      },
      "source": [
        "1. https://towardsdatascience.com/write-markdown-latex-in-the-jupyter-notebook-10985edb91fd\n",
        "2. https://garsia.math.yorku.ca/~zabrocki/latexpanel/mathaccents.html\n",
        "3. https://medium.com/analytics-vidhya/writing-math-equations-in-jupyter-notebook-a-naive-introduction-a5ce87b9a214"
      ]
    }
  ]
}