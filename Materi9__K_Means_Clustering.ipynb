{
  "nbformat": 4,
  "nbformat_minor": 0,
  "metadata": {
    "colab": {
      "name": "Materi9_ K_Means_Clustering.ipynb",
      "provenance": [],
      "toc_visible": true,
      "include_colab_link": true
    },
    "kernelspec": {
      "display_name": "Python 3",
      "language": "python",
      "name": "python3"
    },
    "language_info": {
      "codemirror_mode": {
        "name": "ipython",
        "version": 3
      },
      "file_extension": ".py",
      "mimetype": "text/x-python",
      "name": "python",
      "nbconvert_exporter": "python",
      "pygments_lexer": "ipython3",
      "version": "3.8.5"
    }
  },
  "cells": [
    {
      "cell_type": "markdown",
      "metadata": {
        "id": "view-in-github",
        "colab_type": "text"
      },
      "source": [
        "<a href=\"https://colab.research.google.com/github/ditamaylani/PSDS_KelasMahir_PejuangData3.0/blob/main/Materi9__K_Means_Clustering.ipynb\" target=\"_parent\"><img src=\"https://colab.research.google.com/assets/colab-badge.svg\" alt=\"Open In Colab\"/></a>"
      ]
    },
    {
      "cell_type": "markdown",
      "metadata": {
        "id": "HeO4UaMgvina"
      },
      "source": [
        "## Pembuka"
      ]
    },
    {
      "cell_type": "markdown",
      "metadata": {
        "id": "i3sxqFTmvioo"
      },
      "source": [
        "Assalamu'alaikum warahmatullahi wabarakatuh.\n",
        "Puji syukur kehadirat Allah Subhana Wata'ala atas limpahan Rahmat dan HidayahNya kepada kita semua.\n",
        "Sholawat serta salam senantiasa tercurah limpahkan kepada baginda Muhammad Rasulullah Salallahualaihiwassalam.\n",
        "\n",
        "Halo para **Pejuang Data**. Selamat berjumpa di pertemuan kesembilan Program Training **Algoritma Machine Learning** Kelas Mahir.\n",
        "\n",
        "Pada pertemuan ini kamu akan belajar:\n",
        "* K Means Clustering\n",
        "* Algoritma K Means Clustering\n",
        "* Contoh K Means Clustering\n",
        "* Fungsi K Means Clustering\n",
        "* K Means Clustering dengan Scikit Learn"
      ]
    },
    {
      "cell_type": "markdown",
      "metadata": {
        "id": "n7xc8G9lbeuP"
      },
      "source": [
        "## K Means Clustering"
      ]
    },
    {
      "cell_type": "markdown",
      "metadata": {
        "id": "4lXHlRSjbeuT"
      },
      "source": [
        "K-means (MacQueen, 1967) adalah salah satu algoritma pembelajaran tanpa pengawasan paling sederhana yang memecahkan masalah pengelompokan yang terkenal. Prosedurnya mengikuti cara sederhana dan mudah untuk mengklasifikasikan kumpulan data yang diberikan melalui sejumlah cluster tertentu (asumsikan k cluster) tetap secara apriori. Ide utamanya adalah mendefinisikan k centroid, satu untuk setiap cluster. Centroid ini harus ditempatkan dengan cara yang licik karena lokasi yang berbeda menyebabkan hasil yang berbeda. Jadi, pilihan yang lebih baik adalah menempatkan mereka sejauh mungkin dari satu sama lain. Langkah selanjutnya adalah mengambil setiap titik milik kumpulan data yang diberikan dan mengaitkannya ke centroid terdekat. Ketika tidak ada poin yang tertunda, langkah pertama selesai dan pengelompokan awal dilakukan. Pada titik ini kita perlu menghitung ulang k centroid baru sebagai barycenter dari cluster yang dihasilkan dari langkah sebelumnya. Setelah kita memiliki k centroid baru ini, pengikatan baru harus dilakukan antara titik set data yang sama dan centroid baru terdekat. Sebuah loop telah dibuat. Sebagai hasil dari loop ini kita dapat melihat bahwa k centroid mengubah lokasinya langkah demi langkah sampai tidak ada lagi perubahan yang dilakukan. Dengan kata lain centroid tidak bergerak lagi.\n",
        "Terakhir, algoritma ini bertujuan untuk meminimalkan fungsi tujuan, dalam hal ini fungsi kesalahan kuadrat. Fungsi tujuan\n",
        "\n",
        "$$J=\\sum \\limits_{j=1} ^{k} \\sum \\limits_{i=1} ^{n} \\begin{Vmatrix} x_{i} ^{(j)} - c_{j}\\end{Vmatrix} ^{2} $$\n",
        "\n",
        "di mana $ \\begin{Vmatrix} x_{i} ^{(j)} - c_{j}\\end{Vmatrix} ^{2} $ adalah ukuran jarak yang dipilih antara titik data $ x_{i} ^{(j )} $ dan pusat cluster $c_{j}$, merupakan indikator jarak n titik data dari masing-masing pusat cluster.\n"
      ]
    },
    {
      "cell_type": "markdown",
      "metadata": {
        "id": "JGRSyyk8beuU"
      },
      "source": [
        "## Algoritma K-Means Clustering\n",
        "1. Tentukan parameter k\n",
        "2. Tentukan pusat cluster awal secara acak\n",
        "3. Hitung jarak setiap data ke pusat cluster\n",
        "4. Tetapkan cluster data berdasarkan pusat cluster terdekat\n",
        "5. Memperbarui pusat cluster dengan menghitung nilai rata-rata setiap cluster\n",
        "6. Ulangi langkah 3-5 sampai kriteria berhenti terpenuhi:\n",
        "     1. Jumlah iterasi tertentu tercapai, ATAU\n",
        "     2. Tidak ada (atau minimal) perbedaan anggota cluster pada dua iterasi terakhir, OR\n",
        "     3. Tidak ada (atau minimum) perbedaan pusat cluster, ATAU\n",
        "     4. Selisih SSE (Sum of Squared Error) minimum\n"
      ]
    },
    {
      "cell_type": "markdown",
      "metadata": {
        "id": "zpI65x7PbeuU"
      },
      "source": [
        "## Contoh Implementasi K Means"
      ]
    },
    {
      "cell_type": "markdown",
      "metadata": {
        "id": "4-DeWjIMbeuV"
      },
      "source": [
        "**0. Dataset**"
      ]
    },
    {
      "cell_type": "markdown",
      "metadata": {
        "id": "SdNp_9GkbeuV"
      },
      "source": [
        "| $$x_1$$ | $$x_2$$ |\n",
        "| :---: | :---: |\n",
        "|   1   |   1   |\n",
        "|   2   |   3   |\n",
        "|   7   |   8   |\n",
        "|   8   |   8   |"
      ]
    },
    {
      "cell_type": "code",
      "metadata": {
        "id": "4yMp7AnnbeuW"
      },
      "source": [
        "import pandas as pd\n",
        "import numpy as np\n",
        "import matplotlib.pyplot as plt"
      ],
      "execution_count": 27,
      "outputs": []
    },
    {
      "cell_type": "code",
      "metadata": {
        "colab": {
          "base_uri": "https://localhost:8080/",
          "height": 174
        },
        "id": "556Irq6WbeuX",
        "outputId": "7f831e3d-c8c7-47a3-ea47-2345dd577c28"
      },
      "source": [
        "data=pd.DataFrame({\"x1\":[1,2,7,8], \"x2\":[1,3,8,8]})\n",
        "data"
      ],
      "execution_count": 64,
      "outputs": [
        {
          "output_type": "execute_result",
          "data": {
            "text/html": [
              "<div>\n",
              "<style scoped>\n",
              "    .dataframe tbody tr th:only-of-type {\n",
              "        vertical-align: middle;\n",
              "    }\n",
              "\n",
              "    .dataframe tbody tr th {\n",
              "        vertical-align: top;\n",
              "    }\n",
              "\n",
              "    .dataframe thead th {\n",
              "        text-align: right;\n",
              "    }\n",
              "</style>\n",
              "<table border=\"1\" class=\"dataframe\">\n",
              "  <thead>\n",
              "    <tr style=\"text-align: right;\">\n",
              "      <th></th>\n",
              "      <th>x1</th>\n",
              "      <th>x2</th>\n",
              "    </tr>\n",
              "  </thead>\n",
              "  <tbody>\n",
              "    <tr>\n",
              "      <th>0</th>\n",
              "      <td>1</td>\n",
              "      <td>1</td>\n",
              "    </tr>\n",
              "    <tr>\n",
              "      <th>1</th>\n",
              "      <td>2</td>\n",
              "      <td>3</td>\n",
              "    </tr>\n",
              "    <tr>\n",
              "      <th>2</th>\n",
              "      <td>7</td>\n",
              "      <td>8</td>\n",
              "    </tr>\n",
              "    <tr>\n",
              "      <th>3</th>\n",
              "      <td>8</td>\n",
              "      <td>8</td>\n",
              "    </tr>\n",
              "  </tbody>\n",
              "</table>\n",
              "</div>"
            ],
            "text/plain": [
              "   x1  x2\n",
              "0   1   1\n",
              "1   2   3\n",
              "2   7   8\n",
              "3   8   8"
            ]
          },
          "metadata": {},
          "execution_count": 64
        }
      ]
    },
    {
      "cell_type": "code",
      "metadata": {
        "colab": {
          "base_uri": "https://localhost:8080/",
          "height": 282
        },
        "id": "4Vj5eAJobeuZ",
        "outputId": "20e04eb1-ac3b-4364-e977-d410e0355c3c"
      },
      "source": [
        "plt.scatter(data.x1, data.x2)"
      ],
      "execution_count": 29,
      "outputs": [
        {
          "output_type": "execute_result",
          "data": {
            "text/plain": [
              "<matplotlib.collections.PathCollection at 0x7fefd55c9a90>"
            ]
          },
          "metadata": {},
          "execution_count": 29
        },
        {
          "output_type": "display_data",
          "data": {
            "image/png": "[encoded data removed]",
            "text/plain": [
              "<Figure size 432x288 with 1 Axes>"
            ]
          },
          "metadata": {
            "needs_background": "light"
          }
        }
      ]
    },
    {
      "cell_type": "markdown",
      "metadata": {
        "id": "R1aaLgNEbeua"
      },
      "source": [
        "**1. Tentukan parameternya $k$**\n",
        "\n",
        "$$k=2$$"
      ]
    },
    {
      "cell_type": "code",
      "metadata": {
        "id": "Q9grO0pybeua"
      },
      "source": [
        "k=2"
      ],
      "execution_count": 30,
      "outputs": []
    },
    {
      "cell_type": "markdown",
      "metadata": {
        "id": "p--DUFysbeub"
      },
      "source": [
        "**2. Tentukan pusat cluster awal secara acak**"
      ]
    },
    {
      "cell_type": "markdown",
      "metadata": {
        "id": "hyXYU1BSbeuc"
      },
      "source": [
        "|Centroid | $$x_1$$ | $$x_2$$ |\n",
        "| :---:   | :---: | :---: |\n",
        "| $$c_1$$ |   1   |   1   |\n",
        "| $$c_2$$ |   2   |   3   |"
      ]
    },
    {
      "cell_type": "code",
      "metadata": {
        "colab": {
          "base_uri": "https://localhost:8080/"
        },
        "id": "MRnKiEc8beuc",
        "outputId": "b683740a-1cc0-4633-d8ec-68e9c11e5487"
      },
      "source": [
        "pusat_klaster = np.array([[1,1],[2,3]])\n",
        "pusat_klaster"
      ],
      "execution_count": 31,
      "outputs": [
        {
          "output_type": "execute_result",
          "data": {
            "text/plain": [
              "array([[1, 1],\n",
              "       [2, 3]])"
            ]
          },
          "metadata": {},
          "execution_count": 31
        }
      ]
    },
    {
      "cell_type": "code",
      "metadata": {
        "id": "xr7BkhPabeud"
      },
      "source": [
        "# Determine the initial cluster center randomly\n",
        "import random\n",
        "def pusat_klaster_awal(k, data):\n",
        "    X=np.array(data)\n",
        "    n=len(X)\n",
        "    list_1=np.arange(0,n)\n",
        "    pusat_klaster_index = random.choices(list_1, k=k)\n",
        "    pusat_klaster=X[pusat_klaster_index]\n",
        "    return pusat_klaster"
      ],
      "execution_count": 32,
      "outputs": []
    },
    {
      "cell_type": "markdown",
      "metadata": {
        "id": "ZkHM-AQobeue"
      },
      "source": [
        "**3. Hitung jarak setiap data ke pusat cluster**"
      ]
    },
    {
      "cell_type": "code",
      "metadata": {
        "id": "plWS5SDbbeue"
      },
      "source": [
        "# Define the euclidean distance function\n",
        "def jarak_euclidean(x,y):\n",
        "    return np.sqrt(sum(pow(a-b, 2) for a, b in zip(x,y)))"
      ],
      "execution_count": 34,
      "outputs": []
    },
    {
      "cell_type": "code",
      "metadata": {
        "id": "5cOqo1P3beue"
      },
      "source": [
        "def jarak_centroid_euclidean(data,pusat_klaster):\n",
        "    n=len(data)\n",
        "    k=np.array(pusat_klaster).shape[0]\n",
        "    jarak=[]\n",
        "    for i in range(n):\n",
        "        x = list(data.iloc[i,::])\n",
        "        jrk = [jarak_euclidean(x, pusat_klaster[j]) for j in range(k)]\n",
        "        jarak.append(jrk)\n",
        "    return jarak"
      ],
      "execution_count": 35,
      "outputs": []
    },
    {
      "cell_type": "code",
      "metadata": {
        "colab": {
          "base_uri": "https://localhost:8080/"
        },
        "id": "leMz5fGQbeue",
        "outputId": "18defba7-c486-4e7f-c231-e099a19d8bb4"
      },
      "source": [
        "jarak_centroid=jarak_centroid_euclidean(data,pusat_klaster)\n",
        "jarak_centroid"
      ],
      "execution_count": 36,
      "outputs": [
        {
          "output_type": "execute_result",
          "data": {
            "text/plain": [
              "[[0.0, 2.23606797749979],\n",
              " [2.23606797749979, 0.0],\n",
              " [9.219544457292887, 7.0710678118654755],\n",
              " [9.899494936611665, 7.810249675906654]]"
            ]
          },
          "metadata": {},
          "execution_count": 36
        }
      ]
    },
    {
      "cell_type": "markdown",
      "metadata": {
        "id": "qEBmzXtEbeuf"
      },
      "source": [
        "**4. Tetapkan klaster data berdasarkan pusat klaster terdekat**"
      ]
    },
    {
      "cell_type": "code",
      "metadata": {
        "id": "F0T53TIwbeuf"
      },
      "source": [
        "def menentukan_klaster(jarak_centroid):\n",
        "    n=len(jarak_centroid)\n",
        "    label_klaster=list()\n",
        "    for i in range(n):\n",
        "        max_val, idx = min((val, idx) for (idx, val) in enumerate(jarak_centroid[i]))\n",
        "        label_klaster.append(idx)\n",
        "    return label_klaster"
      ],
      "execution_count": 37,
      "outputs": []
    },
    {
      "cell_type": "code",
      "metadata": {
        "colab": {
          "base_uri": "https://localhost:8080/"
        },
        "id": "CtPR161lbeuf",
        "outputId": "4aa05c78-f189-4895-9562-eb8fb4c0d162"
      },
      "source": [
        "klaster=menentukan_klaster(jarak_centroid)\n",
        "klaster"
      ],
      "execution_count": 38,
      "outputs": [
        {
          "output_type": "execute_result",
          "data": {
            "text/plain": [
              "[0, 1, 1, 1]"
            ]
          },
          "metadata": {},
          "execution_count": 38
        }
      ]
    },
    {
      "cell_type": "markdown",
      "metadata": {
        "id": "Rvtp3Sj4beuf"
      },
      "source": [
        "**5. Memperbarui pusat cluster dengan menghitung nilai rata-rata setiap cluster**"
      ]
    },
    {
      "cell_type": "code",
      "metadata": {
        "id": "BcI2EwvVbeug"
      },
      "source": [
        "def menghitung_pusat_klaster(data, klaster):\n",
        "    data['label']=klaster\n",
        "    pusat_barudf=data.groupby('label', as_index=False).mean()\n",
        "    pusat_barudf=pusat_barudf.iloc[::,1:]\n",
        "    pusat_klaster_baru=np.array(pusat_barudf)\n",
        "    return pusat_klaster_baru"
      ],
      "execution_count": 39,
      "outputs": []
    },
    {
      "cell_type": "code",
      "metadata": {
        "colab": {
          "base_uri": "https://localhost:8080/"
        },
        "id": "JIADFiFGbeug",
        "outputId": "c6531b66-76dd-4ff1-fd35-1545e9121021"
      },
      "source": [
        "pusat_klaster_baru=menghitung_pusat_klaster(data, klaster)\n",
        "pusat_klaster_baru"
      ],
      "execution_count": 40,
      "outputs": [
        {
          "output_type": "execute_result",
          "data": {
            "text/plain": [
              "array([[1.        , 1.        ],\n",
              "       [5.66666667, 6.33333333]])"
            ]
          },
          "metadata": {},
          "execution_count": 40
        }
      ]
    },
    {
      "cell_type": "markdown",
      "metadata": {
        "id": "G3wT1ueybeug"
      },
      "source": [
        "**6. Ulangi langkah 2 - 5 hingga kriteria henti dipenuhi:**"
      ]
    },
    {
      "cell_type": "code",
      "metadata": {
        "id": "ZZBkr_5Sbeug"
      },
      "source": [
        "def perubahan_pusat_klaster_euclidean(pusat_klaster_lama, pusat_klaster_baru):\n",
        "    perubahan = 0\n",
        "    for a,b in zip(pusat_klaster_lama, pusat_klaster_baru):\n",
        "        perubahan+=jarak_euclidean(a,b)\n",
        "    return perubahan"
      ],
      "execution_count": 41,
      "outputs": []
    },
    {
      "cell_type": "code",
      "metadata": {
        "colab": {
          "base_uri": "https://localhost:8080/"
        },
        "id": "dlQjlz_sbeug",
        "outputId": "98d41fe5-ef34-4822-f8f7-662b8be476f9"
      },
      "source": [
        "perubahan_pusat_klaster_euclidean(pusat_klaster, pusat_klaster_baru)"
      ],
      "execution_count": 42,
      "outputs": [
        {
          "output_type": "execute_result",
          "data": {
            "text/plain": [
              "4.955356249106169"
            ]
          },
          "metadata": {},
          "execution_count": 42
        }
      ]
    },
    {
      "cell_type": "markdown",
      "metadata": {
        "id": "YJDoJtt9beug"
      },
      "source": [
        "## Fungsi K Means Clustering"
      ]
    },
    {
      "cell_type": "code",
      "metadata": {
        "id": "4O0O6cgPbeuh"
      },
      "source": [
        "def plot_klaster(X, klaster, pusat_klaster):\n",
        "    df = pd.DataFrame(dict(x=X[:,0], y=X[:,1], label=klaster))\n",
        "    colors = {0:'blue', 1:'orange', 2:'green'}\n",
        "    fig, ax = plt.subplots(figsize=(8, 8))\n",
        "    grouped = df.groupby('label')\n",
        "    for key, group in grouped:\n",
        "        group.plot(ax=ax, kind='scatter', x='x', y='y', label=key, color=colors[key])\n",
        "    ax.scatter(pusat_klaster[:, 0], pusat_klaster[:, 1], marker='*', s=150, c='#ff2222')\n",
        "    plt.xlabel('X_1')\n",
        "    plt.ylabel('X_2')\n",
        "    plt.show()"
      ],
      "execution_count": 43,
      "outputs": []
    },
    {
      "cell_type": "code",
      "metadata": {
        "id": "8UpkJMXQbeuh"
      },
      "source": [
        "def k_means(k, df):\n",
        "    X=np.array(df)\n",
        "    pusat_klaster_lama = pusat_klaster_awal(k, X)\n",
        "    klaster = [0]*len(X)\n",
        "    epsilon = 100\n",
        "    iterasi = -1\n",
        "    while epsilon>.001:\n",
        "        jarak_ke_pusat_klaster=jarak_centroid_euclidean(df,pusat_klaster_lama)\n",
        "        klaster = menentukan_klaster(jarak_ke_pusat_klaster)\n",
        "        plot_klaster(X, klaster, pusat_klaster_lama)\n",
        "        pusat_klaster_baru = menghitung_pusat_klaster(df, klaster)\n",
        "        epsilon = perubahan_pusat_klaster_euclidean(pusat_klaster_lama, pusat_klaster_baru)\n",
        "        pusat_klaster_lama = pusat_klaster_baru\n",
        "        iterasi += 1\n",
        "    return iterasi, klaster, pusat_klaster_baru"
      ],
      "execution_count": 44,
      "outputs": []
    },
    {
      "cell_type": "code",
      "metadata": {
        "colab": {
          "base_uri": "https://localhost:8080/",
          "height": 1000
        },
        "id": "fk8Hfqx7beuh",
        "scrolled": true,
        "outputId": "4db1a5bf-33f2-4058-afab-2a45569d94f9"
      },
      "source": [
        "iterasi, klaster, pusat_klaster= k_means(2, data)"
      ],
      "execution_count": 45,
      "outputs": [
        {
          "output_type": "display_data",
          "data": {
            "image/png": "[encoded data removed]",
            "text/plain": [
              "<Figure size 576x576 with 1 Axes>"
            ]
          },
          "metadata": {
            "needs_background": "light"
          }
        },
        {
          "output_type": "display_data",
          "data": {
            "image/png": "[encoded data removed]",
            "text/plain": [
              "<Figure size 576x576 with 1 Axes>"
            ]
          },
          "metadata": {
            "needs_background": "light"
          }
        },
        {
          "output_type": "display_data",
          "data": {
            "image/png": "[encoded data removed]",
            "text/plain": [
              "<Figure size 576x576 with 1 Axes>"
            ]
          },
          "metadata": {
            "needs_background": "light"
          }
        }
      ]
    },
    {
      "cell_type": "code",
      "metadata": {
        "colab": {
          "base_uri": "https://localhost:8080/"
        },
        "id": "v05pk7LV7lhf",
        "outputId": "2d952046-a88d-4f24-b35f-ff4ee542f6ba"
      },
      "source": [
        "pusat_klaster"
      ],
      "execution_count": 46,
      "outputs": [
        {
          "output_type": "execute_result",
          "data": {
            "text/plain": [
              "array([[7.5, 8. ],\n",
              "       [1.5, 2. ]])"
            ]
          },
          "metadata": {},
          "execution_count": 46
        }
      ]
    },
    {
      "cell_type": "markdown",
      "metadata": {
        "id": "EarGuG9gVIn4"
      },
      "source": [
        "## K-Means Clustering menggunakan Python Scikit Learn"
      ]
    },
    {
      "cell_type": "code",
      "metadata": {
        "colab": {
          "base_uri": "https://localhost:8080/"
        },
        "id": "0pu6xfe_YSOM",
        "outputId": "2829b33f-3ee6-45f6-a6c9-cfdead45421c"
      },
      "source": [
        "from sklearn.cluster import KMeans\n",
        "import numpy as np\n",
        "\n",
        "data=pd.DataFrame({\"x1\":[1,2,7,8], \"x2\":[1,3,8,8]})\n",
        "\n",
        "X=np.array(data)\n",
        "X"
      ],
      "execution_count": 47,
      "outputs": [
        {
          "output_type": "execute_result",
          "data": {
            "text/plain": [
              "array([[1, 1],\n",
              "       [2, 3],\n",
              "       [7, 8],\n",
              "       [8, 8]])"
            ]
          },
          "metadata": {},
          "execution_count": 47
        }
      ]
    },
    {
      "cell_type": "code",
      "metadata": {
        "id": "pqSXAT85Yl7l"
      },
      "source": [
        "kmeans = KMeans(n_clusters=2, random_state=0).fit(X)"
      ],
      "execution_count": 48,
      "outputs": []
    },
    {
      "cell_type": "code",
      "metadata": {
        "colab": {
          "base_uri": "https://localhost:8080/"
        },
        "id": "F_5bV3LUYSRK",
        "outputId": "46c173c4-5a27-4638-ec7d-84ee7f755f87"
      },
      "source": [
        "kmeans.labels_"
      ],
      "execution_count": 49,
      "outputs": [
        {
          "output_type": "execute_result",
          "data": {
            "text/plain": [
              "array([0, 0, 1, 1], dtype=int32)"
            ]
          },
          "metadata": {},
          "execution_count": 49
        }
      ]
    },
    {
      "cell_type": "code",
      "metadata": {
        "colab": {
          "base_uri": "https://localhost:8080/"
        },
        "id": "QNLRc2wvYSUG",
        "outputId": "dcaef9c5-5f04-4015-eb6a-e396333d09b2"
      },
      "source": [
        "kmeans.predict([[0, 0], [12, 3]])"
      ],
      "execution_count": 50,
      "outputs": [
        {
          "output_type": "execute_result",
          "data": {
            "text/plain": [
              "array([0, 1], dtype=int32)"
            ]
          },
          "metadata": {},
          "execution_count": 50
        }
      ]
    },
    {
      "cell_type": "code",
      "metadata": {
        "colab": {
          "base_uri": "https://localhost:8080/"
        },
        "id": "piErV9FAYSXC",
        "outputId": "e2248cf2-c72d-4d42-d1f5-c937cb72e8e6"
      },
      "source": [
        "kmeans.cluster_centers_"
      ],
      "execution_count": 51,
      "outputs": [
        {
          "output_type": "execute_result",
          "data": {
            "text/plain": [
              "array([[1.5, 2. ],\n",
              "       [7.5, 8. ]])"
            ]
          },
          "metadata": {},
          "execution_count": 51
        }
      ]
    },
    {
      "cell_type": "markdown",
      "metadata": {
        "id": "BDfe8Pmo0M8v"
      },
      "source": [
        "## Latihan"
      ]
    },
    {
      "cell_type": "markdown",
      "metadata": {
        "id": "s8HkVgPrsaoW"
      },
      "source": [
        "Diberikan dataset Super-Store-Dataset.csv. Lakukanlah clasterisasi menggunakan metode K Means Clustering pada kolom 'sales', 'quantity', dan 'profit'. Simpan label klaster yang kalian buat pada kolom 'klaster' di dataset yang sama. Simpan hasilnya dalam bentuk csv dengan nama klasterisasi_data_retail.csv. "
      ]
    },
    {
      "cell_type": "code",
      "metadata": {
        "id": "P5cC3Aujm3i7"
      },
      "source": [
        "#Import Library\n",
        "import pandas as pd\n",
        "import numpy as np\n",
        "from sklearn.cluster import KMeans\n",
        "import matplotlib.pyplot as plt\n",
        "import seaborn as sns\n",
        "import random\n",
        "from math import ceil\n",
        "import random as rd\n",
        "import copy"
      ],
      "execution_count": 53,
      "outputs": []
    },
    {
      "cell_type": "markdown",
      "metadata": {
        "id": "MO-tlBQHnKkb"
      },
      "source": [
        "**Data Preprocessing**"
      ]
    },
    {
      "cell_type": "code",
      "metadata": {
        "colab": {
          "base_uri": "https://localhost:8080/",
          "height": 424
        },
        "id": "Pmi2Eso9toRt",
        "outputId": "049e24b2-7527-4817-b5d0-0554fdaaf461"
      },
      "source": [
        "df_ssd=pd.read_csv('https://raw.githubusercontent.com/ditamaylani/dataset/main/Super-Store-Dataset.csv')\n",
        "df_ssd"
      ],
      "execution_count": 24,
      "outputs": [
        {
          "output_type": "execute_result",
          "data": {
            "text/html": [
              "<div>\n",
              "<style scoped>\n",
              "    .dataframe tbody tr th:only-of-type {\n",
              "        vertical-align: middle;\n",
              "    }\n",
              "\n",
              "    .dataframe tbody tr th {\n",
              "        vertical-align: top;\n",
              "    }\n",
              "\n",
              "    .dataframe thead th {\n",
              "        text-align: right;\n",
              "    }\n",
              "</style>\n",
              "<table border=\"1\" class=\"dataframe\">\n",
              "  <thead>\n",
              "    <tr style=\"text-align: right;\">\n",
              "      <th></th>\n",
              "      <th>order_id</th>\n",
              "      <th>order_date</th>\n",
              "      <th>customer_id</th>\n",
              "      <th>segment</th>\n",
              "      <th>category</th>\n",
              "      <th>sub_category</th>\n",
              "      <th>sales</th>\n",
              "      <th>quantity</th>\n",
              "      <th>profit</th>\n",
              "    </tr>\n",
              "  </thead>\n",
              "  <tbody>\n",
              "    <tr>\n",
              "      <th>0</th>\n",
              "      <td>CA-2016-152156</td>\n",
              "      <td>11/8/2016</td>\n",
              "      <td>CG-12520</td>\n",
              "      <td>Consumer</td>\n",
              "      <td>Furniture</td>\n",
              "      <td>Bookcases</td>\n",
              "      <td>261.9600</td>\n",
              "      <td>2</td>\n",
              "      <td>41.9136</td>\n",
              "    </tr>\n",
              "    <tr>\n",
              "      <th>1</th>\n",
              "      <td>CA-2016-152156</td>\n",
              "      <td>11/8/2016</td>\n",
              "      <td>CG-12520</td>\n",
              "      <td>Consumer</td>\n",
              "      <td>Furniture</td>\n",
              "      <td>Chairs</td>\n",
              "      <td>731.9400</td>\n",
              "      <td>3</td>\n",
              "      <td>219.5820</td>\n",
              "    </tr>\n",
              "    <tr>\n",
              "      <th>2</th>\n",
              "      <td>CA-2016-138688</td>\n",
              "      <td>6/12/2016</td>\n",
              "      <td>DV-13045</td>\n",
              "      <td>Corporate</td>\n",
              "      <td>Office Supplies</td>\n",
              "      <td>Labels</td>\n",
              "      <td>14.6200</td>\n",
              "      <td>2</td>\n",
              "      <td>6.8714</td>\n",
              "    </tr>\n",
              "    <tr>\n",
              "      <th>3</th>\n",
              "      <td>US-2015-108966</td>\n",
              "      <td>10/11/2015</td>\n",
              "      <td>SO-20335</td>\n",
              "      <td>Consumer</td>\n",
              "      <td>Furniture</td>\n",
              "      <td>Tables</td>\n",
              "      <td>957.5775</td>\n",
              "      <td>5</td>\n",
              "      <td>-383.0310</td>\n",
              "    </tr>\n",
              "    <tr>\n",
              "      <th>4</th>\n",
              "      <td>US-2015-108966</td>\n",
              "      <td>10/11/2015</td>\n",
              "      <td>SO-20335</td>\n",
              "      <td>Consumer</td>\n",
              "      <td>Office Supplies</td>\n",
              "      <td>Storage</td>\n",
              "      <td>22.3680</td>\n",
              "      <td>2</td>\n",
              "      <td>2.5164</td>\n",
              "    </tr>\n",
              "    <tr>\n",
              "      <th>...</th>\n",
              "      <td>...</td>\n",
              "      <td>...</td>\n",
              "      <td>...</td>\n",
              "      <td>...</td>\n",
              "      <td>...</td>\n",
              "      <td>...</td>\n",
              "      <td>...</td>\n",
              "      <td>...</td>\n",
              "      <td>...</td>\n",
              "    </tr>\n",
              "    <tr>\n",
              "      <th>9983</th>\n",
              "      <td>CA-2014-110422</td>\n",
              "      <td>1/21/2014</td>\n",
              "      <td>TB-21400</td>\n",
              "      <td>Consumer</td>\n",
              "      <td>Furniture</td>\n",
              "      <td>Furnishings</td>\n",
              "      <td>25.2480</td>\n",
              "      <td>3</td>\n",
              "      <td>4.1028</td>\n",
              "    </tr>\n",
              "    <tr>\n",
              "      <th>9984</th>\n",
              "      <td>CA-2017-121258</td>\n",
              "      <td>2/26/2017</td>\n",
              "      <td>DB-13060</td>\n",
              "      <td>Consumer</td>\n",
              "      <td>Furniture</td>\n",
              "      <td>Furnishings</td>\n",
              "      <td>91.9600</td>\n",
              "      <td>2</td>\n",
              "      <td>15.6332</td>\n",
              "    </tr>\n",
              "    <tr>\n",
              "      <th>9985</th>\n",
              "      <td>CA-2017-121258</td>\n",
              "      <td>2/26/2017</td>\n",
              "      <td>DB-13060</td>\n",
              "      <td>Consumer</td>\n",
              "      <td>Technology</td>\n",
              "      <td>Phones</td>\n",
              "      <td>258.5760</td>\n",
              "      <td>2</td>\n",
              "      <td>19.3932</td>\n",
              "    </tr>\n",
              "    <tr>\n",
              "      <th>9986</th>\n",
              "      <td>CA-2017-121258</td>\n",
              "      <td>2/26/2017</td>\n",
              "      <td>DB-13060</td>\n",
              "      <td>Consumer</td>\n",
              "      <td>Office Supplies</td>\n",
              "      <td>Paper</td>\n",
              "      <td>29.6000</td>\n",
              "      <td>4</td>\n",
              "      <td>13.3200</td>\n",
              "    </tr>\n",
              "    <tr>\n",
              "      <th>9987</th>\n",
              "      <td>CA-2017-119914</td>\n",
              "      <td>5/4/2017</td>\n",
              "      <td>CC-12220</td>\n",
              "      <td>Consumer</td>\n",
              "      <td>Office Supplies</td>\n",
              "      <td>Appliances</td>\n",
              "      <td>243.1600</td>\n",
              "      <td>2</td>\n",
              "      <td>72.9480</td>\n",
              "    </tr>\n",
              "  </tbody>\n",
              "</table>\n",
              "<p>9988 rows × 9 columns</p>\n",
              "</div>"
            ],
            "text/plain": [
              "            order_id  order_date customer_id  ...     sales quantity    profit\n",
              "0     CA-2016-152156   11/8/2016    CG-12520  ...  261.9600        2   41.9136\n",
              "1     CA-2016-152156   11/8/2016    CG-12520  ...  731.9400        3  219.5820\n",
              "2     CA-2016-138688   6/12/2016    DV-13045  ...   14.6200        2    6.8714\n",
              "3     US-2015-108966  10/11/2015    SO-20335  ...  957.5775        5 -383.0310\n",
              "4     US-2015-108966  10/11/2015    SO-20335  ...   22.3680        2    2.5164\n",
              "...              ...         ...         ...  ...       ...      ...       ...\n",
              "9983  CA-2014-110422   1/21/2014    TB-21400  ...   25.2480        3    4.1028\n",
              "9984  CA-2017-121258   2/26/2017    DB-13060  ...   91.9600        2   15.6332\n",
              "9985  CA-2017-121258   2/26/2017    DB-13060  ...  258.5760        2   19.3932\n",
              "9986  CA-2017-121258   2/26/2017    DB-13060  ...   29.6000        4   13.3200\n",
              "9987  CA-2017-119914    5/4/2017    CC-12220  ...  243.1600        2   72.9480\n",
              "\n",
              "[9988 rows x 9 columns]"
            ]
          },
          "metadata": {},
          "execution_count": 24
        }
      ]
    },
    {
      "cell_type": "code",
      "metadata": {
        "colab": {
          "base_uri": "https://localhost:8080/",
          "height": 424
        },
        "id": "YBqK8oj9H9do",
        "outputId": "9b25d522-c20c-4824-c961-bced82134193"
      },
      "source": [
        "# Mengambil beberapa kolom yang akan digunakan\n",
        "df_used=df_ssd[['sales','quantity','profit']]\n",
        "df_used"
      ],
      "execution_count": 25,
      "outputs": [
        {
          "output_type": "execute_result",
          "data": {
            "text/html": [
              "<div>\n",
              "<style scoped>\n",
              "    .dataframe tbody tr th:only-of-type {\n",
              "        vertical-align: middle;\n",
              "    }\n",
              "\n",
              "    .dataframe tbody tr th {\n",
              "        vertical-align: top;\n",
              "    }\n",
              "\n",
              "    .dataframe thead th {\n",
              "        text-align: right;\n",
              "    }\n",
              "</style>\n",
              "<table border=\"1\" class=\"dataframe\">\n",
              "  <thead>\n",
              "    <tr style=\"text-align: right;\">\n",
              "      <th></th>\n",
              "      <th>sales</th>\n",
              "      <th>quantity</th>\n",
              "      <th>profit</th>\n",
              "    </tr>\n",
              "  </thead>\n",
              "  <tbody>\n",
              "    <tr>\n",
              "      <th>0</th>\n",
              "      <td>261.9600</td>\n",
              "      <td>2</td>\n",
              "      <td>41.9136</td>\n",
              "    </tr>\n",
              "    <tr>\n",
              "      <th>1</th>\n",
              "      <td>731.9400</td>\n",
              "      <td>3</td>\n",
              "      <td>219.5820</td>\n",
              "    </tr>\n",
              "    <tr>\n",
              "      <th>2</th>\n",
              "      <td>14.6200</td>\n",
              "      <td>2</td>\n",
              "      <td>6.8714</td>\n",
              "    </tr>\n",
              "    <tr>\n",
              "      <th>3</th>\n",
              "      <td>957.5775</td>\n",
              "      <td>5</td>\n",
              "      <td>-383.0310</td>\n",
              "    </tr>\n",
              "    <tr>\n",
              "      <th>4</th>\n",
              "      <td>22.3680</td>\n",
              "      <td>2</td>\n",
              "      <td>2.5164</td>\n",
              "    </tr>\n",
              "    <tr>\n",
              "      <th>...</th>\n",
              "      <td>...</td>\n",
              "      <td>...</td>\n",
              "      <td>...</td>\n",
              "    </tr>\n",
              "    <tr>\n",
              "      <th>9983</th>\n",
              "      <td>25.2480</td>\n",
              "      <td>3</td>\n",
              "      <td>4.1028</td>\n",
              "    </tr>\n",
              "    <tr>\n",
              "      <th>9984</th>\n",
              "      <td>91.9600</td>\n",
              "      <td>2</td>\n",
              "      <td>15.6332</td>\n",
              "    </tr>\n",
              "    <tr>\n",
              "      <th>9985</th>\n",
              "      <td>258.5760</td>\n",
              "      <td>2</td>\n",
              "      <td>19.3932</td>\n",
              "    </tr>\n",
              "    <tr>\n",
              "      <th>9986</th>\n",
              "      <td>29.6000</td>\n",
              "      <td>4</td>\n",
              "      <td>13.3200</td>\n",
              "    </tr>\n",
              "    <tr>\n",
              "      <th>9987</th>\n",
              "      <td>243.1600</td>\n",
              "      <td>2</td>\n",
              "      <td>72.9480</td>\n",
              "    </tr>\n",
              "  </tbody>\n",
              "</table>\n",
              "<p>9988 rows × 3 columns</p>\n",
              "</div>"
            ],
            "text/plain": [
              "         sales  quantity    profit\n",
              "0     261.9600         2   41.9136\n",
              "1     731.9400         3  219.5820\n",
              "2      14.6200         2    6.8714\n",
              "3     957.5775         5 -383.0310\n",
              "4      22.3680         2    2.5164\n",
              "...        ...       ...       ...\n",
              "9983   25.2480         3    4.1028\n",
              "9984   91.9600         2   15.6332\n",
              "9985  258.5760         2   19.3932\n",
              "9986   29.6000         4   13.3200\n",
              "9987  243.1600         2   72.9480\n",
              "\n",
              "[9988 rows x 3 columns]"
            ]
          },
          "metadata": {},
          "execution_count": 25
        }
      ]
    },
    {
      "cell_type": "code",
      "metadata": {
        "colab": {
          "base_uri": "https://localhost:8080/"
        },
        "id": "CeaJagbLuSZ3",
        "outputId": "3cc52c4a-c391-483e-c747-9fc31a8e1c33"
      },
      "source": [
        "df_used.info() #memeriksa info data yang akan digunakan"
      ],
      "execution_count": 52,
      "outputs": [
        {
          "output_type": "stream",
          "name": "stdout",
          "text": [
            "<class 'pandas.core.frame.DataFrame'>\n",
            "RangeIndex: 9988 entries, 0 to 9987\n",
            "Data columns (total 3 columns):\n",
            " #   Column    Non-Null Count  Dtype  \n",
            "---  ------    --------------  -----  \n",
            " 0   sales     9988 non-null   float64\n",
            " 1   quantity  9988 non-null   int64  \n",
            " 2   profit    9988 non-null   float64\n",
            "dtypes: float64(2), int64(1)\n",
            "memory usage: 234.2 KB\n"
          ]
        }
      ]
    },
    {
      "cell_type": "code",
      "metadata": {
        "colab": {
          "base_uri": "https://localhost:8080/"
        },
        "id": "fz7DYiMj6cf-",
        "outputId": "74e98d95-0fd9-44a8-93a5-2233ae387527"
      },
      "source": [
        "df_used.isna().sum() #memeriksa jumlah data yang kosong"
      ],
      "execution_count": 26,
      "outputs": [
        {
          "output_type": "execute_result",
          "data": {
            "text/plain": [
              "sales       0\n",
              "quantity    0\n",
              "profit      0\n",
              "dtype: int64"
            ]
          },
          "metadata": {},
          "execution_count": 26
        }
      ]
    },
    {
      "cell_type": "markdown",
      "metadata": {
        "id": "BxTZKnXNu-yy"
      },
      "source": [
        "Data yang digunakan merupakan data numerik dan tidak terdapat missing value. Selanjutnya kita perlu menskalakan kolom-kolom yang akan digunakan."
      ]
    },
    {
      "cell_type": "code",
      "metadata": {
        "colab": {
          "base_uri": "https://localhost:8080/",
          "height": 424
        },
        "id": "4kPOww81xbjh",
        "outputId": "a8254bf8-46a1-46a0-ed09-046037d5f018"
      },
      "source": [
        "# MinMaxScaler digunakan untuk menskalakan nilai data ke dalam suatu range\n",
        "\n",
        "from sklearn.preprocessing import MinMaxScaler\n",
        "\n",
        "normalize = MinMaxScaler()\n",
        "data = normalize.fit_transform(df_used)\n",
        "col= ['sales','quantity','profit']\n",
        "df_used= pd.DataFrame(data, columns=col)\n",
        "df_used\n"
      ],
      "execution_count": 54,
      "outputs": [
        {
          "output_type": "execute_result",
          "data": {
            "text/html": [
              "<div>\n",
              "<style scoped>\n",
              "    .dataframe tbody tr th:only-of-type {\n",
              "        vertical-align: middle;\n",
              "    }\n",
              "\n",
              "    .dataframe tbody tr th {\n",
              "        vertical-align: top;\n",
              "    }\n",
              "\n",
              "    .dataframe thead th {\n",
              "        text-align: right;\n",
              "    }\n",
              "</style>\n",
              "<table border=\"1\" class=\"dataframe\">\n",
              "  <thead>\n",
              "    <tr style=\"text-align: right;\">\n",
              "      <th></th>\n",
              "      <th>sales</th>\n",
              "      <th>quantity</th>\n",
              "      <th>profit</th>\n",
              "    </tr>\n",
              "  </thead>\n",
              "  <tbody>\n",
              "    <tr>\n",
              "      <th>0</th>\n",
              "      <td>0.026436</td>\n",
              "      <td>0.076923</td>\n",
              "      <td>0.441810</td>\n",
              "    </tr>\n",
              "    <tr>\n",
              "      <th>1</th>\n",
              "      <td>0.073946</td>\n",
              "      <td>0.153846</td>\n",
              "      <td>0.462031</td>\n",
              "    </tr>\n",
              "    <tr>\n",
              "      <th>2</th>\n",
              "      <td>0.001433</td>\n",
              "      <td>0.076923</td>\n",
              "      <td>0.437822</td>\n",
              "    </tr>\n",
              "    <tr>\n",
              "      <th>3</th>\n",
              "      <td>0.096755</td>\n",
              "      <td>0.307692</td>\n",
              "      <td>0.393446</td>\n",
              "    </tr>\n",
              "    <tr>\n",
              "      <th>4</th>\n",
              "      <td>0.002216</td>\n",
              "      <td>0.076923</td>\n",
              "      <td>0.437326</td>\n",
              "    </tr>\n",
              "    <tr>\n",
              "      <th>...</th>\n",
              "      <td>...</td>\n",
              "      <td>...</td>\n",
              "      <td>...</td>\n",
              "    </tr>\n",
              "    <tr>\n",
              "      <th>9983</th>\n",
              "      <td>0.002507</td>\n",
              "      <td>0.153846</td>\n",
              "      <td>0.437507</td>\n",
              "    </tr>\n",
              "    <tr>\n",
              "      <th>9984</th>\n",
              "      <td>0.009251</td>\n",
              "      <td>0.076923</td>\n",
              "      <td>0.438819</td>\n",
              "    </tr>\n",
              "    <tr>\n",
              "      <th>9985</th>\n",
              "      <td>0.026094</td>\n",
              "      <td>0.076923</td>\n",
              "      <td>0.439247</td>\n",
              "    </tr>\n",
              "    <tr>\n",
              "      <th>9986</th>\n",
              "      <td>0.002947</td>\n",
              "      <td>0.230769</td>\n",
              "      <td>0.438556</td>\n",
              "    </tr>\n",
              "    <tr>\n",
              "      <th>9987</th>\n",
              "      <td>0.024536</td>\n",
              "      <td>0.076923</td>\n",
              "      <td>0.445342</td>\n",
              "    </tr>\n",
              "  </tbody>\n",
              "</table>\n",
              "<p>9988 rows × 3 columns</p>\n",
              "</div>"
            ],
            "text/plain": [
              "         sales  quantity    profit\n",
              "0     0.026436  0.076923  0.441810\n",
              "1     0.073946  0.153846  0.462031\n",
              "2     0.001433  0.076923  0.437822\n",
              "3     0.096755  0.307692  0.393446\n",
              "4     0.002216  0.076923  0.437326\n",
              "...        ...       ...       ...\n",
              "9983  0.002507  0.153846  0.437507\n",
              "9984  0.009251  0.076923  0.438819\n",
              "9985  0.026094  0.076923  0.439247\n",
              "9986  0.002947  0.230769  0.438556\n",
              "9987  0.024536  0.076923  0.445342\n",
              "\n",
              "[9988 rows x 3 columns]"
            ]
          },
          "metadata": {},
          "execution_count": 54
        }
      ]
    },
    {
      "cell_type": "code",
      "metadata": {
        "colab": {
          "base_uri": "https://localhost:8080/",
          "height": 282
        },
        "id": "rdCX9hkrxWdz",
        "outputId": "87e2b5ac-68e2-4f3b-dc7e-df79be6d448b"
      },
      "source": [
        "plt.scatter(df_used['sales'],df_used['quantity'],df_used['profit'])"
      ],
      "execution_count": 55,
      "outputs": [
        {
          "output_type": "execute_result",
          "data": {
            "text/plain": [
              "<matplotlib.collections.PathCollection at 0x7fefcd397410>"
            ]
          },
          "metadata": {},
          "execution_count": 55
        },
        {
          "output_type": "display_data",
          "data": {
            "image/png": "[encoded data removed]",
            "text/plain": [
              "<Figure size 432x288 with 1 Axes>"
            ]
          },
          "metadata": {
            "needs_background": "light"
          }
        }
      ]
    },
    {
      "cell_type": "markdown",
      "metadata": {
        "id": "3rAfCJty0l3F"
      },
      "source": [
        "**Menentukan k terbaik menggunakan metode Elbow**"
      ]
    },
    {
      "cell_type": "code",
      "metadata": {
        "id": "OK03dzhG1s_8"
      },
      "source": [
        "distortions = []\n",
        "K = range(1,10)\n",
        "for k in K:\n",
        "    kmeanModel = KMeans(n_clusters=k)\n",
        "    kmeanModel.fit(df_used)\n",
        "    distortions.append(kmeanModel.inertia_)"
      ],
      "execution_count": 57,
      "outputs": []
    },
    {
      "cell_type": "code",
      "metadata": {
        "colab": {
          "base_uri": "https://localhost:8080/",
          "height": 513
        },
        "id": "XX_Uzo3o11gM",
        "outputId": "ff6ef2b9-1030-491b-f733-883c5f274da8"
      },
      "source": [
        "plt.figure(figsize=(16,8))\n",
        "plt.plot(K, distortions, 'go-')\n",
        "plt.xlabel('k')\n",
        "plt.ylabel('Distortion')\n",
        "plt.title('Metode Elbow untuk menunjukkan nilai k optimum')\n",
        "plt.show()"
      ],
      "execution_count": 58,
      "outputs": [
        {
          "output_type": "display_data",
          "data": {
            "image/png": "[encoded data removed]",
            "text/plain": [
              "<Figure size 1152x576 with 1 Axes>"
            ]
          },
          "metadata": {
            "needs_background": "light"
          }
        }
      ]
    },
    {
      "cell_type": "markdown",
      "metadata": {
        "id": "1ajuUsL52l-T"
      },
      "source": [
        "Dari grafik diatas dapat kita lihat bahwa titik elbow (siku) terdapat pada k = 3."
      ]
    },
    {
      "cell_type": "code",
      "metadata": {
        "id": "_3KqDai32eBu"
      },
      "source": [
        "#Membentuk fungsi k_means\n",
        "def k_means(k, df):\n",
        "    X=np.array(df)\n",
        "    pusat_klaster_lama = pusat_klaster_awal(k, X)\n",
        "    klaster = [0]*len(X)\n",
        "    epsilon = 100\n",
        "    iterasi = -1\n",
        "    while epsilon>.001:\n",
        "        jarak_ke_pusat_klaster=jarak_centroid_euclidean(df,pusat_klaster_lama)\n",
        "        klaster = menentukan_klaster(jarak_ke_pusat_klaster)\n",
        "        pusat_klaster_baru = menghitung_pusat_klaster(df, klaster)\n",
        "        epsilon = perubahan_pusat_klaster_euclidean(pusat_klaster_lama, pusat_klaster_baru)\n",
        "        pusat_klaster_lama = pusat_klaster_baru\n",
        "        iterasi += 1\n",
        "    return iterasi, klaster, pusat_klaster_baru"
      ],
      "execution_count": 59,
      "outputs": []
    },
    {
      "cell_type": "code",
      "metadata": {
        "id": "2P4D6mQ63z3q"
      },
      "source": [
        "# Mengklasterisasi data dengan 3 klaster.\n",
        "iterasi, klaster, pusat_klaster= k_means(3, df_used)"
      ],
      "execution_count": 60,
      "outputs": []
    },
    {
      "cell_type": "code",
      "metadata": {
        "colab": {
          "base_uri": "https://localhost:8080/",
          "height": 424
        },
        "id": "oRLeWIAQ4Bqb",
        "outputId": "84f0664b-c8a2-4e83-8780-38a26f869edd"
      },
      "source": [
        "df_used_cluster = df_used\n",
        "df_used_cluster"
      ],
      "execution_count": 61,
      "outputs": [
        {
          "output_type": "execute_result",
          "data": {
            "text/html": [
              "<div>\n",
              "<style scoped>\n",
              "    .dataframe tbody tr th:only-of-type {\n",
              "        vertical-align: middle;\n",
              "    }\n",
              "\n",
              "    .dataframe tbody tr th {\n",
              "        vertical-align: top;\n",
              "    }\n",
              "\n",
              "    .dataframe thead th {\n",
              "        text-align: right;\n",
              "    }\n",
              "</style>\n",
              "<table border=\"1\" class=\"dataframe\">\n",
              "  <thead>\n",
              "    <tr style=\"text-align: right;\">\n",
              "      <th></th>\n",
              "      <th>sales</th>\n",
              "      <th>quantity</th>\n",
              "      <th>profit</th>\n",
              "      <th>label</th>\n",
              "    </tr>\n",
              "  </thead>\n",
              "  <tbody>\n",
              "    <tr>\n",
              "      <th>0</th>\n",
              "      <td>0.026436</td>\n",
              "      <td>0.076923</td>\n",
              "      <td>0.441810</td>\n",
              "      <td>2</td>\n",
              "    </tr>\n",
              "    <tr>\n",
              "      <th>1</th>\n",
              "      <td>0.073946</td>\n",
              "      <td>0.153846</td>\n",
              "      <td>0.462031</td>\n",
              "      <td>0</td>\n",
              "    </tr>\n",
              "    <tr>\n",
              "      <th>2</th>\n",
              "      <td>0.001433</td>\n",
              "      <td>0.076923</td>\n",
              "      <td>0.437822</td>\n",
              "      <td>2</td>\n",
              "    </tr>\n",
              "    <tr>\n",
              "      <th>3</th>\n",
              "      <td>0.096755</td>\n",
              "      <td>0.307692</td>\n",
              "      <td>0.393446</td>\n",
              "      <td>1</td>\n",
              "    </tr>\n",
              "    <tr>\n",
              "      <th>4</th>\n",
              "      <td>0.002216</td>\n",
              "      <td>0.076923</td>\n",
              "      <td>0.437326</td>\n",
              "      <td>2</td>\n",
              "    </tr>\n",
              "    <tr>\n",
              "      <th>...</th>\n",
              "      <td>...</td>\n",
              "      <td>...</td>\n",
              "      <td>...</td>\n",
              "      <td>...</td>\n",
              "    </tr>\n",
              "    <tr>\n",
              "      <th>9983</th>\n",
              "      <td>0.002507</td>\n",
              "      <td>0.153846</td>\n",
              "      <td>0.437507</td>\n",
              "      <td>0</td>\n",
              "    </tr>\n",
              "    <tr>\n",
              "      <th>9984</th>\n",
              "      <td>0.009251</td>\n",
              "      <td>0.076923</td>\n",
              "      <td>0.438819</td>\n",
              "      <td>2</td>\n",
              "    </tr>\n",
              "    <tr>\n",
              "      <th>9985</th>\n",
              "      <td>0.026094</td>\n",
              "      <td>0.076923</td>\n",
              "      <td>0.439247</td>\n",
              "      <td>2</td>\n",
              "    </tr>\n",
              "    <tr>\n",
              "      <th>9986</th>\n",
              "      <td>0.002947</td>\n",
              "      <td>0.230769</td>\n",
              "      <td>0.438556</td>\n",
              "      <td>0</td>\n",
              "    </tr>\n",
              "    <tr>\n",
              "      <th>9987</th>\n",
              "      <td>0.024536</td>\n",
              "      <td>0.076923</td>\n",
              "      <td>0.445342</td>\n",
              "      <td>2</td>\n",
              "    </tr>\n",
              "  </tbody>\n",
              "</table>\n",
              "<p>9988 rows × 4 columns</p>\n",
              "</div>"
            ],
            "text/plain": [
              "         sales  quantity    profit  label\n",
              "0     0.026436  0.076923  0.441810      2\n",
              "1     0.073946  0.153846  0.462031      0\n",
              "2     0.001433  0.076923  0.437822      2\n",
              "3     0.096755  0.307692  0.393446      1\n",
              "4     0.002216  0.076923  0.437326      2\n",
              "...        ...       ...       ...    ...\n",
              "9983  0.002507  0.153846  0.437507      0\n",
              "9984  0.009251  0.076923  0.438819      2\n",
              "9985  0.026094  0.076923  0.439247      2\n",
              "9986  0.002947  0.230769  0.438556      0\n",
              "9987  0.024536  0.076923  0.445342      2\n",
              "\n",
              "[9988 rows x 4 columns]"
            ]
          },
          "metadata": {},
          "execution_count": 61
        }
      ]
    },
    {
      "cell_type": "code",
      "metadata": {
        "id": "gW6RGz9m69TU"
      },
      "source": [
        "df_used_cluster.to_csv('klasterisasi_data_retail.csv', index=False)"
      ],
      "execution_count": 62,
      "outputs": []
    },
    {
      "cell_type": "code",
      "metadata": {
        "colab": {
          "base_uri": "https://localhost:8080/",
          "height": 17
        },
        "id": "NRsk5PEzN7bt",
        "outputId": "8d4ae09a-2651-412d-d815-9b188a77549b"
      },
      "source": [
        "from google.colab import files\n",
        "files.download(\"klasterisasi_data_retail.csv\")"
      ],
      "execution_count": 65,
      "outputs": [
        {
          "output_type": "display_data",
          "data": {
            "application/javascript": [
              "\n",
              "    async function download(id, filename, size) {\n",
              "      if (!google.colab.kernel.accessAllowed) {\n",
              "        return;\n",
              "      }\n",
              "      const div = document.createElement('div');\n",
              "      const label = document.createElement('label');\n",
              "      label.textContent = `Downloading \"${filename}\": `;\n",
              "      div.appendChild(label);\n",
              "      const progress = document.createElement('progress');\n",
              "      progress.max = size;\n",
              "      div.appendChild(progress);\n",
              "      document.body.appendChild(div);\n",
              "\n",
              "      const buffers = [];\n",
              "      let downloaded = 0;\n",
              "\n",
              "      const channel = await google.colab.kernel.comms.open(id);\n",
              "      // Send a message to notify the kernel that we're ready.\n",
              "      channel.send({})\n",
              "\n",
              "      for await (const message of channel.messages) {\n",
              "        // Send a message to notify the kernel that we're ready.\n",
              "        channel.send({})\n",
              "        if (message.buffers) {\n",
              "          for (const buffer of message.buffers) {\n",
              "            buffers.push(buffer);\n",
              "            downloaded += buffer.byteLength;\n",
              "            progress.value = downloaded;\n",
              "          }\n",
              "        }\n",
              "      }\n",
              "      const blob = new Blob(buffers, {type: 'application/binary'});\n",
              "      const a = document.createElement('a');\n",
              "      a.href = window.URL.createObjectURL(blob);\n",
              "      a.download = filename;\n",
              "      div.appendChild(a);\n",
              "      a.click();\n",
              "      div.remove();\n",
              "    }\n",
              "  "
            ],
            "text/plain": [
              "<IPython.core.display.Javascript object>"
            ]
          },
          "metadata": {}
        },
        {
          "output_type": "display_data",
          "data": {
            "application/javascript": [
              "download(\"download_97e98e6b-7477-4c1b-b114-4b2b3471f7c4\", \"klasterisasi_data_retail.csv\", 607052)"
            ],
            "text/plain": [
              "<IPython.core.display.Javascript object>"
            ]
          },
          "metadata": {}
        }
      ]
    }
  ]
}